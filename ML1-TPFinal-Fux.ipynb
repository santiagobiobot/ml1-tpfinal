{
 "cells": [
  {
   "cell_type": "markdown",
   "metadata": {},
   "source": [
    "# Aprendizaje de Máquina 1\n",
    "## Trabajo Práctico Individual"
   ]
  },
  {
   "cell_type": "markdown",
   "metadata": {},
   "source": [
    "### Alumno: Fux, Santiago"
   ]
  },
  {
   "cell_type": "markdown",
   "metadata": {},
   "source": [
    "## Enunciado\n",
    "\n",
    "Una plataforma de ventas online nos contrata para que realicemos un modelo que nos permita detectar un posible fraude dada cierta operación para ello contamos con un dataset que contiene las siguientes columnas:\n",
    "* Step: representa una unidad de tiempo donde 1 step equivale a 1 hora\n",
    "* type: tipo de transacción en línea\n",
    "* amount: el importe de la transacción\n",
    "* nameOrig: cliente que inicia la transacción\n",
    "* oldbalanceOrg: saldo antes de la transacción\n",
    "* newbalanceOrig: saldo después de la transacción\n",
    "* nameDest: destinatario de la transacción\n",
    "* oldbalanceDest: saldo inicial del destinatario antes de la transacción\n",
    "* newbalanceDest: el nuevo saldo del destinatario después de la transacción\n",
    "* isFraud: transacción fraudulenta\n",
    "\n",
    "Utilizando los modelos de clasificación vistos hasta el momento generar un notebook que permita de ser posible resolver el problema que nos está planteando el cliente.  \n",
    "https://www.kaggle.com/datasets/rupakroy/online-payments-fraud-detection-dataset"
   ]
  },
  {
   "cell_type": "markdown",
   "metadata": {},
   "source": [
    "## Importación de las librerías utilizadas"
   ]
  },
  {
   "cell_type": "code",
   "execution_count": 1,
   "metadata": {},
   "outputs": [],
   "source": [
    "# Importamos las librerias necesarias para interactuar con el dataset.\n",
    "import pandas as pd\n",
    "import glob\n",
    "import matplotlib\n",
    "import matplotlib.pyplot as plt\n",
    "import numpy as np\n",
    "\n",
    "#Importamos las bibliotecas que usaremos\n",
    "import seaborn as sns\n",
    "from sklearn.linear_model import LogisticRegression, LogisticRegressionCV\n",
    "from sklearn.metrics import accuracy_score,plot_confusion_matrix,roc_auc_score, classification_report, confusion_matrix, precision_recall_curve, auc\n",
    "from sklearn.preprocessing import StandardScaler\n",
    "import sklearn as sk\n",
    "from sklearn.model_selection import train_test_split\n",
    "\n",
    "#scores\n",
    "from sklearn.metrics import precision_score, recall_score, f1_score, confusion_matrix\n"
   ]
  },
  {
   "cell_type": "markdown",
   "metadata": {},
   "source": [
    "## Carga de datos"
   ]
  },
  {
   "cell_type": "markdown",
   "metadata": {},
   "source": [
    "Obtenemos los datos desde un archivo csv a través de la librería Panda. Los datos se cargan como un dataset y se imprimen los primeros valores"
   ]
  },
  {
   "cell_type": "code",
   "execution_count": 2,
   "metadata": {},
   "outputs": [
    {
     "data": {
      "text/html": [
       "<div>\n",
       "<style scoped>\n",
       "    .dataframe tbody tr th:only-of-type {\n",
       "        vertical-align: middle;\n",
       "    }\n",
       "\n",
       "    .dataframe tbody tr th {\n",
       "        vertical-align: top;\n",
       "    }\n",
       "\n",
       "    .dataframe thead th {\n",
       "        text-align: right;\n",
       "    }\n",
       "</style>\n",
       "<table border=\"1\" class=\"dataframe\">\n",
       "  <thead>\n",
       "    <tr style=\"text-align: right;\">\n",
       "      <th></th>\n",
       "      <th>step</th>\n",
       "      <th>type</th>\n",
       "      <th>amount</th>\n",
       "      <th>nameOrig</th>\n",
       "      <th>oldbalanceOrg</th>\n",
       "      <th>newbalanceOrig</th>\n",
       "      <th>nameDest</th>\n",
       "      <th>oldbalanceDest</th>\n",
       "      <th>newbalanceDest</th>\n",
       "      <th>isFraud</th>\n",
       "      <th>isFlaggedFraud</th>\n",
       "    </tr>\n",
       "  </thead>\n",
       "  <tbody>\n",
       "    <tr>\n",
       "      <th>0</th>\n",
       "      <td>1</td>\n",
       "      <td>PAYMENT</td>\n",
       "      <td>9839.64</td>\n",
       "      <td>C1231006815</td>\n",
       "      <td>170136.0</td>\n",
       "      <td>160296.36</td>\n",
       "      <td>M1979787155</td>\n",
       "      <td>0.0</td>\n",
       "      <td>0.0</td>\n",
       "      <td>0</td>\n",
       "      <td>0</td>\n",
       "    </tr>\n",
       "    <tr>\n",
       "      <th>1</th>\n",
       "      <td>1</td>\n",
       "      <td>PAYMENT</td>\n",
       "      <td>1864.28</td>\n",
       "      <td>C1666544295</td>\n",
       "      <td>21249.0</td>\n",
       "      <td>19384.72</td>\n",
       "      <td>M2044282225</td>\n",
       "      <td>0.0</td>\n",
       "      <td>0.0</td>\n",
       "      <td>0</td>\n",
       "      <td>0</td>\n",
       "    </tr>\n",
       "    <tr>\n",
       "      <th>2</th>\n",
       "      <td>1</td>\n",
       "      <td>TRANSFER</td>\n",
       "      <td>181.00</td>\n",
       "      <td>C1305486145</td>\n",
       "      <td>181.0</td>\n",
       "      <td>0.00</td>\n",
       "      <td>C553264065</td>\n",
       "      <td>0.0</td>\n",
       "      <td>0.0</td>\n",
       "      <td>1</td>\n",
       "      <td>0</td>\n",
       "    </tr>\n",
       "    <tr>\n",
       "      <th>3</th>\n",
       "      <td>1</td>\n",
       "      <td>CASH_OUT</td>\n",
       "      <td>181.00</td>\n",
       "      <td>C840083671</td>\n",
       "      <td>181.0</td>\n",
       "      <td>0.00</td>\n",
       "      <td>C38997010</td>\n",
       "      <td>21182.0</td>\n",
       "      <td>0.0</td>\n",
       "      <td>1</td>\n",
       "      <td>0</td>\n",
       "    </tr>\n",
       "    <tr>\n",
       "      <th>4</th>\n",
       "      <td>1</td>\n",
       "      <td>PAYMENT</td>\n",
       "      <td>11668.14</td>\n",
       "      <td>C2048537720</td>\n",
       "      <td>41554.0</td>\n",
       "      <td>29885.86</td>\n",
       "      <td>M1230701703</td>\n",
       "      <td>0.0</td>\n",
       "      <td>0.0</td>\n",
       "      <td>0</td>\n",
       "      <td>0</td>\n",
       "    </tr>\n",
       "  </tbody>\n",
       "</table>\n",
       "</div>"
      ],
      "text/plain": [
       "   step      type    amount     nameOrig  oldbalanceOrg  newbalanceOrig  \\\n",
       "0     1   PAYMENT   9839.64  C1231006815       170136.0       160296.36   \n",
       "1     1   PAYMENT   1864.28  C1666544295        21249.0        19384.72   \n",
       "2     1  TRANSFER    181.00  C1305486145          181.0            0.00   \n",
       "3     1  CASH_OUT    181.00   C840083671          181.0            0.00   \n",
       "4     1   PAYMENT  11668.14  C2048537720        41554.0        29885.86   \n",
       "\n",
       "      nameDest  oldbalanceDest  newbalanceDest  isFraud  isFlaggedFraud  \n",
       "0  M1979787155             0.0             0.0        0               0  \n",
       "1  M2044282225             0.0             0.0        0               0  \n",
       "2   C553264065             0.0             0.0        1               0  \n",
       "3    C38997010         21182.0             0.0        1               0  \n",
       "4  M1230701703             0.0             0.0        0               0  "
      ]
     },
     "execution_count": 2,
     "metadata": {},
     "output_type": "execute_result"
    }
   ],
   "source": [
    "# cargamos el dataset desde un csv\n",
    "DATASET_PATH = 'data/'\n",
    "DATASET_NAME = 'PS_20174392719_1491204439457_log.csv'\n",
    "\n",
    "df = pd.read_csv(DATASET_PATH + DATASET_NAME)\n",
    "df.head(5)"
   ]
  },
  {
   "cell_type": "markdown",
   "metadata": {},
   "source": [
    "## Análisis de datos"
   ]
  },
  {
   "cell_type": "markdown",
   "metadata": {},
   "source": [
    "Observamos los valores característicos de cada uno de los features y sus tipos de datos"
   ]
  },
  {
   "cell_type": "code",
   "execution_count": 3,
   "metadata": {},
   "outputs": [
    {
     "data": {
      "text/html": [
       "<div>\n",
       "<style scoped>\n",
       "    .dataframe tbody tr th:only-of-type {\n",
       "        vertical-align: middle;\n",
       "    }\n",
       "\n",
       "    .dataframe tbody tr th {\n",
       "        vertical-align: top;\n",
       "    }\n",
       "\n",
       "    .dataframe thead th {\n",
       "        text-align: right;\n",
       "    }\n",
       "</style>\n",
       "<table border=\"1\" class=\"dataframe\">\n",
       "  <thead>\n",
       "    <tr style=\"text-align: right;\">\n",
       "      <th></th>\n",
       "      <th>step</th>\n",
       "      <th>amount</th>\n",
       "      <th>oldbalanceOrg</th>\n",
       "      <th>newbalanceOrig</th>\n",
       "      <th>oldbalanceDest</th>\n",
       "      <th>newbalanceDest</th>\n",
       "      <th>isFraud</th>\n",
       "      <th>isFlaggedFraud</th>\n",
       "    </tr>\n",
       "  </thead>\n",
       "  <tbody>\n",
       "    <tr>\n",
       "      <th>count</th>\n",
       "      <td>6.362620e+06</td>\n",
       "      <td>6.362620e+06</td>\n",
       "      <td>6.362620e+06</td>\n",
       "      <td>6.362620e+06</td>\n",
       "      <td>6.362620e+06</td>\n",
       "      <td>6.362620e+06</td>\n",
       "      <td>6.362620e+06</td>\n",
       "      <td>6.362620e+06</td>\n",
       "    </tr>\n",
       "    <tr>\n",
       "      <th>mean</th>\n",
       "      <td>2.433972e+02</td>\n",
       "      <td>1.798619e+05</td>\n",
       "      <td>8.338831e+05</td>\n",
       "      <td>8.551137e+05</td>\n",
       "      <td>1.100702e+06</td>\n",
       "      <td>1.224996e+06</td>\n",
       "      <td>1.290820e-03</td>\n",
       "      <td>2.514687e-06</td>\n",
       "    </tr>\n",
       "    <tr>\n",
       "      <th>std</th>\n",
       "      <td>1.423320e+02</td>\n",
       "      <td>6.038582e+05</td>\n",
       "      <td>2.888243e+06</td>\n",
       "      <td>2.924049e+06</td>\n",
       "      <td>3.399180e+06</td>\n",
       "      <td>3.674129e+06</td>\n",
       "      <td>3.590480e-02</td>\n",
       "      <td>1.585775e-03</td>\n",
       "    </tr>\n",
       "    <tr>\n",
       "      <th>min</th>\n",
       "      <td>1.000000e+00</td>\n",
       "      <td>0.000000e+00</td>\n",
       "      <td>0.000000e+00</td>\n",
       "      <td>0.000000e+00</td>\n",
       "      <td>0.000000e+00</td>\n",
       "      <td>0.000000e+00</td>\n",
       "      <td>0.000000e+00</td>\n",
       "      <td>0.000000e+00</td>\n",
       "    </tr>\n",
       "    <tr>\n",
       "      <th>25%</th>\n",
       "      <td>1.560000e+02</td>\n",
       "      <td>1.338957e+04</td>\n",
       "      <td>0.000000e+00</td>\n",
       "      <td>0.000000e+00</td>\n",
       "      <td>0.000000e+00</td>\n",
       "      <td>0.000000e+00</td>\n",
       "      <td>0.000000e+00</td>\n",
       "      <td>0.000000e+00</td>\n",
       "    </tr>\n",
       "    <tr>\n",
       "      <th>50%</th>\n",
       "      <td>2.390000e+02</td>\n",
       "      <td>7.487194e+04</td>\n",
       "      <td>1.420800e+04</td>\n",
       "      <td>0.000000e+00</td>\n",
       "      <td>1.327057e+05</td>\n",
       "      <td>2.146614e+05</td>\n",
       "      <td>0.000000e+00</td>\n",
       "      <td>0.000000e+00</td>\n",
       "    </tr>\n",
       "    <tr>\n",
       "      <th>75%</th>\n",
       "      <td>3.350000e+02</td>\n",
       "      <td>2.087215e+05</td>\n",
       "      <td>1.073152e+05</td>\n",
       "      <td>1.442584e+05</td>\n",
       "      <td>9.430367e+05</td>\n",
       "      <td>1.111909e+06</td>\n",
       "      <td>0.000000e+00</td>\n",
       "      <td>0.000000e+00</td>\n",
       "    </tr>\n",
       "    <tr>\n",
       "      <th>max</th>\n",
       "      <td>7.430000e+02</td>\n",
       "      <td>9.244552e+07</td>\n",
       "      <td>5.958504e+07</td>\n",
       "      <td>4.958504e+07</td>\n",
       "      <td>3.560159e+08</td>\n",
       "      <td>3.561793e+08</td>\n",
       "      <td>1.000000e+00</td>\n",
       "      <td>1.000000e+00</td>\n",
       "    </tr>\n",
       "  </tbody>\n",
       "</table>\n",
       "</div>"
      ],
      "text/plain": [
       "               step        amount  oldbalanceOrg  newbalanceOrig  \\\n",
       "count  6.362620e+06  6.362620e+06   6.362620e+06    6.362620e+06   \n",
       "mean   2.433972e+02  1.798619e+05   8.338831e+05    8.551137e+05   \n",
       "std    1.423320e+02  6.038582e+05   2.888243e+06    2.924049e+06   \n",
       "min    1.000000e+00  0.000000e+00   0.000000e+00    0.000000e+00   \n",
       "25%    1.560000e+02  1.338957e+04   0.000000e+00    0.000000e+00   \n",
       "50%    2.390000e+02  7.487194e+04   1.420800e+04    0.000000e+00   \n",
       "75%    3.350000e+02  2.087215e+05   1.073152e+05    1.442584e+05   \n",
       "max    7.430000e+02  9.244552e+07   5.958504e+07    4.958504e+07   \n",
       "\n",
       "       oldbalanceDest  newbalanceDest       isFraud  isFlaggedFraud  \n",
       "count    6.362620e+06    6.362620e+06  6.362620e+06    6.362620e+06  \n",
       "mean     1.100702e+06    1.224996e+06  1.290820e-03    2.514687e-06  \n",
       "std      3.399180e+06    3.674129e+06  3.590480e-02    1.585775e-03  \n",
       "min      0.000000e+00    0.000000e+00  0.000000e+00    0.000000e+00  \n",
       "25%      0.000000e+00    0.000000e+00  0.000000e+00    0.000000e+00  \n",
       "50%      1.327057e+05    2.146614e+05  0.000000e+00    0.000000e+00  \n",
       "75%      9.430367e+05    1.111909e+06  0.000000e+00    0.000000e+00  \n",
       "max      3.560159e+08    3.561793e+08  1.000000e+00    1.000000e+00  "
      ]
     },
     "execution_count": 3,
     "metadata": {},
     "output_type": "execute_result"
    }
   ],
   "source": [
    "# visualizamos las métricas de cada feature\n",
    "df.describe()"
   ]
  },
  {
   "cell_type": "code",
   "execution_count": 4,
   "metadata": {},
   "outputs": [
    {
     "data": {
      "text/plain": [
       "(Index(['step', 'type', 'amount', 'nameOrig', 'oldbalanceOrg', 'newbalanceOrig',\n",
       "        'nameDest', 'oldbalanceDest', 'newbalanceDest', 'isFraud',\n",
       "        'isFlaggedFraud'],\n",
       "       dtype='object'),\n",
       " step                int64\n",
       " type               object\n",
       " amount            float64\n",
       " nameOrig           object\n",
       " oldbalanceOrg     float64\n",
       " newbalanceOrig    float64\n",
       " nameDest           object\n",
       " oldbalanceDest    float64\n",
       " newbalanceDest    float64\n",
       " isFraud             int64\n",
       " isFlaggedFraud      int64\n",
       " dtype: object)"
      ]
     },
     "execution_count": 4,
     "metadata": {},
     "output_type": "execute_result"
    }
   ],
   "source": [
    "#visualizamos los tipos de cada feature\n",
    "df.columns, df.dtypes"
   ]
  },
  {
   "cell_type": "markdown",
   "metadata": {},
   "source": [
    "Graficamos las distribuciones de los features"
   ]
  },
  {
   "cell_type": "code",
   "execution_count": 5,
   "metadata": {},
   "outputs": [],
   "source": [
    "# funcion para plotear las distribuciones de los atributos\n",
    "def display_dataset_distributions(dataset):\n",
    "    fig = dataset.hist(xlabelsize=10, ylabelsize=10,figsize=(18,18))\n",
    "    [x.title.set_size(14) for x in fig.ravel()]\n",
    "    plt.tight_layout\n",
    "    plt.show()"
   ]
  },
  {
   "cell_type": "code",
   "execution_count": 6,
   "metadata": {},
   "outputs": [
    {
     "data": {
      "image/png": "[encoded data removed]",
      "text/plain": [
       "<Figure size 1296x1296 with 9 Axes>"
      ]
     },
     "metadata": {
      "needs_background": "light"
     },
     "output_type": "display_data"
    }
   ],
   "source": [
    "#imprimo distribuciones \n",
    "display_dataset_distributions(df)"
   ]
  },
  {
   "cell_type": "markdown",
   "metadata": {},
   "source": [
    "### Ingeniería de datos"
   ]
  },
  {
   "cell_type": "markdown",
   "metadata": {},
   "source": [
    "En esta sección vamos a agregar nuevos features en base a las variables originales"
   ]
  },
  {
   "cell_type": "markdown",
   "metadata": {},
   "source": [
    "#### Variable type"
   ]
  },
  {
   "cell_type": "code",
   "execution_count": 7,
   "metadata": {},
   "outputs": [
    {
     "data": {
      "text/plain": [
       "(array(['PAYMENT', 'TRANSFER', 'CASH_OUT', 'DEBIT', 'CASH_IN'],\n",
       "       dtype=object),\n",
       " CASH_OUT    2237500\n",
       " PAYMENT     2151495\n",
       " CASH_IN     1399284\n",
       " TRANSFER     532909\n",
       " DEBIT         41432\n",
       " Name: type, dtype: int64)"
      ]
     },
     "execution_count": 7,
     "metadata": {},
     "output_type": "execute_result"
    }
   ],
   "source": [
    "# variable type es categórica\n",
    "total_items = len(df)\n",
    "df['type'].unique(), df['type'].value_counts()"
   ]
  },
  {
   "cell_type": "code",
   "execution_count": 8,
   "metadata": {},
   "outputs": [
    {
     "data": {
      "text/plain": [
       "array([0.33814608, 0.08375622, 0.35166331, 0.00651178, 0.21992261])"
      ]
     },
     "execution_count": 8,
     "metadata": {},
     "output_type": "execute_result"
    }
   ],
   "source": [
    "#convierto a freq encoding\n",
    "type_freq_map = (df['type'].value_counts() / total_items).to_dict()\n",
    "df['typeFreq'] = df['type'].apply(lambda x: type_freq_map[x])\n",
    "\n",
    "df['typeFreq'].unique()"
   ]
  },
  {
   "cell_type": "markdown",
   "metadata": {},
   "source": [
    "#### Variable nameOrig"
   ]
  },
  {
   "cell_type": "code",
   "execution_count": 9,
   "metadata": {},
   "outputs": [
    {
     "name": "stdout",
     "output_type": "stream",
     "text": [
      "Categorias: 6353307, Total=6362620\n"
     ]
    }
   ],
   "source": [
    "# verifico cuántos tipos de origenes hay\n",
    "num_categories = len(df['nameOrig'].unique())\n",
    "print(f'Categorias: {num_categories}, Total={total_items}')"
   ]
  },
  {
   "cell_type": "markdown",
   "metadata": {},
   "source": [
    "__Conclusión__: se decide descartar esta categoría  "
   ]
  },
  {
   "cell_type": "markdown",
   "metadata": {},
   "source": [
    "#### Variable namedest"
   ]
  },
  {
   "cell_type": "code",
   "execution_count": 10,
   "metadata": {},
   "outputs": [
    {
     "name": "stdout",
     "output_type": "stream",
     "text": [
      "Categorias: 2722362, Total=6362620\n"
     ]
    }
   ],
   "source": [
    "# verifico cuantos tipos de origenes hay\n",
    "num_categories = len(df['nameDest'].unique())\n",
    "print(f'Categorias: {num_categories}, Total={total_items}')"
   ]
  },
  {
   "cell_type": "markdown",
   "metadata": {},
   "source": [
    "__Conclusión__: se decide descartar esta categoría  "
   ]
  },
  {
   "cell_type": "markdown",
   "metadata": {},
   "source": [
    "### Verficación de los datos nulos"
   ]
  },
  {
   "cell_type": "markdown",
   "metadata": {},
   "source": [
    "Imprimo la cantidad de datos nulos por categoría"
   ]
  },
  {
   "cell_type": "code",
   "execution_count": 11,
   "metadata": {},
   "outputs": [
    {
     "name": "stdout",
     "output_type": "stream",
     "text": [
      "step Nulos/Total = 0/6362620\n",
      "type Nulos/Total = 0/6362620\n",
      "amount Nulos/Total = 0/6362620\n",
      "nameOrig Nulos/Total = 0/6362620\n",
      "oldbalanceOrg Nulos/Total = 0/6362620\n",
      "newbalanceOrig Nulos/Total = 0/6362620\n",
      "nameDest Nulos/Total = 0/6362620\n",
      "oldbalanceDest Nulos/Total = 0/6362620\n",
      "newbalanceDest Nulos/Total = 0/6362620\n",
      "isFraud Nulos/Total = 0/6362620\n",
      "isFlaggedFraud Nulos/Total = 0/6362620\n",
      "typeFreq Nulos/Total = 0/6362620\n"
     ]
    }
   ],
   "source": [
    "col_names = df.columns\n",
    "\n",
    "for i, col in enumerate(col_names):\n",
    "  print(f'{col} Nulos/Total = {df[col].isnull().sum()}/{df[col].size}')"
   ]
  },
  {
   "cell_type": "markdown",
   "metadata": {},
   "source": [
    "### Desbalance de la variable objetivo"
   ]
  },
  {
   "cell_type": "code",
   "execution_count": 12,
   "metadata": {},
   "outputs": [
    {
     "data": {
      "text/plain": [
       "0    0.998709\n",
       "1    0.001291\n",
       "Name: isFraud, dtype: float64"
      ]
     },
     "execution_count": 12,
     "metadata": {},
     "output_type": "execute_result"
    }
   ],
   "source": [
    "# Verifico proporción de la categoría de la variable objetivo\n",
    "df['isFraud'].value_counts(normalize=True)"
   ]
  },
  {
   "cell_type": "markdown",
   "metadata": {},
   "source": [
    "Las categorías están super desbalanceadas (99%-1%) por lo que tengo que considerar para obtener mejores resultados los conceptos de:\n",
    "* Undersampling\n",
    "* Oversampling"
   ]
  },
  {
   "cell_type": "markdown",
   "metadata": {},
   "source": [
    "## Distribución del dataset del modelo"
   ]
  },
  {
   "cell_type": "markdown",
   "metadata": {},
   "source": [
    "Hago una distribución de los datasets de train y test"
   ]
  },
  {
   "cell_type": "code",
   "execution_count": 13,
   "metadata": {},
   "outputs": [],
   "source": [
    "# Particionamos en train y test\n",
    "train_ratio = 0.7\n",
    "test_ratio = 0.3\n",
    "\n",
    "# descarto los features nameOrig y nameDest\n",
    "# me quedo con typeFreq en lugar de type\n",
    "feature_cols = ['step', 'amount', 'oldbalanceOrg', 'newbalanceOrig', 'oldbalanceDest', 'newbalanceDest', 'typeFreq']\n"
   ]
  },
  {
   "cell_type": "markdown",
   "metadata": {},
   "source": [
    "## Funciones útiles a implementar para regresión lineal"
   ]
  },
  {
   "cell_type": "code",
   "execution_count": 14,
   "metadata": {},
   "outputs": [],
   "source": [
    "def logistic_regression_report(X_train,X_test,y_train,y_test):\n",
    "    \n",
    "    scaler=StandardScaler()  \n",
    "    \n",
    "    X_train_sc=scaler.fit_transform(X_train) # Estandarizamos los datos     \n",
    "    X_test_sc=scaler.transform(X_test)\n",
    "        \n",
    "    model=LogisticRegressionCV(scoring='f1')\n",
    "    \n",
    "    model.fit(X_train_sc,y_train)\n",
    "    y_pred=model.predict(X_test_sc)\n",
    "    y_proba=model.predict_proba(X_test_sc)\n",
    "    \n",
    "    print(classification_report(y_test,y_pred))    \n",
    "    print('Area bajo la curva ROC:',np.round(roc_auc_score(y_test,y_proba[:,1]),4))    \n",
    "    precision, recall,threshold=precision_recall_curve(y_test,y_proba[:,1])\n",
    "    print('Area bajo la curva Precision-Recall:',np.round(auc(recall,precision),4))\n",
    "    print(f'Precision:{precision}, Recall: {recall}:')\n",
    "    plot_confusion_matrix(model,X_test_sc,y_test,cmap='Blues')\n",
    "    "
   ]
  },
  {
   "cell_type": "markdown",
   "metadata": {},
   "source": [
    "## Regresión lineal con datos desbalanceados"
   ]
  },
  {
   "cell_type": "markdown",
   "metadata": {},
   "source": [
    "Implementamos regresión lineal sin balancear la variable de salida con ningún mecanismo. El entrenamiento de esta forma no es aconsejado habitualmente dado que se establecen muy pocos casos positivos (donde existe fraude). De todos modos se aplica __stratify__ para hacer una distribución pareja de los casos en los datasets de train y test."
   ]
  },
  {
   "cell_type": "code",
   "execution_count": 15,
   "metadata": {},
   "outputs": [],
   "source": [
    "# obtengo los datos filtrados pero sin escalar repartidos de forma pareja entre train y test\n",
    "X_raw = df[feature_cols]\n",
    "y_raw = df['isFraud']\n",
    "\n",
    "X_raw_train, X_raw_test, y_raw_train, y_raw_test = train_test_split(X_raw, y_raw, stratify=y_raw, random_state=1)"
   ]
  },
  {
   "cell_type": "code",
   "execution_count": 16,
   "metadata": {},
   "outputs": [
    {
     "name": "stdout",
     "output_type": "stream",
     "text": [
      "Porcentaje de fraudes en train: \n",
      "0    0.998709\n",
      "1    0.001291\n",
      "Name: isFraud, dtype: float64%\n",
      "Porcetaje de fraudes en test: \n",
      "0    0.998709\n",
      "1    0.001291\n",
      "Name: isFraud, dtype: float64%\n"
     ]
    }
   ],
   "source": [
    "#verifico cantidad de ejemplos en cada uno de los tests\n",
    "y_raw_train_fraud_percentage = y_raw_train.value_counts(normalize=True)\n",
    "y_raw_test_fraud_percentage = y_raw_test.value_counts(normalize=True)\n",
    "\n",
    "print(f'Porcentaje de fraudes en train: \\n{y_raw_train_fraud_percentage}%')\n",
    "print(f'Porcetaje de fraudes en test: \\n{y_raw_test_fraud_percentage}%')"
   ]
  },
  {
   "cell_type": "code",
   "execution_count": 17,
   "metadata": {},
   "outputs": [
    {
     "name": "stdout",
     "output_type": "stream",
     "text": [
      "              precision    recall  f1-score   support\n",
      "\n",
      "           0       1.00      1.00      1.00   1588602\n",
      "           1       0.86      0.49      0.62      2053\n",
      "\n",
      "    accuracy                           1.00   1590655\n",
      "   macro avg       0.93      0.74      0.81   1590655\n",
      "weighted avg       1.00      1.00      1.00   1590655\n",
      "\n",
      "Area bajo la curva ROC: 0.9737\n",
      "Area bajo la curva Precision-Recall: 0.6419\n",
      "Precision:[0.00130664 0.001306   0.001306   ... 1.         1.         1.        ], Recall: [1.         0.99951291 0.99951291 ... 0.13395032 0.13248904 0.        ]:\n"
     ]
    },
    {
     "data": {
      "image/png": "[encoded data removed]",
      "text/plain": [
       "<Figure size 432x288 with 2 Axes>"
      ]
     },
     "metadata": {
      "needs_background": "light"
     },
     "output_type": "display_data"
    }
   ],
   "source": [
    "logistic_regression_report(X_raw_train, X_raw_test, y_raw_train, y_raw_test)"
   ]
  },
  {
   "cell_type": "markdown",
   "metadata": {},
   "source": [
    "## Regresión lineal con datos balanceados (undersampling)"
   ]
  },
  {
   "cell_type": "code",
   "execution_count": 18,
   "metadata": {},
   "outputs": [
    {
     "name": "stdout",
     "output_type": "stream",
     "text": [
      "Composición del training set:\n",
      "0    6160\n",
      "1    6160\n",
      "Name: isFraud, dtype: int64\n",
      "\n",
      "Composición del test set:\n",
      "0    1588602\n",
      "1       2053\n",
      "Name: isFraud, dtype: int64\n"
     ]
    }
   ],
   "source": [
    "from imblearn.under_sampling import RandomUnderSampler\n",
    "\n",
    "undersampler=RandomUnderSampler(sampling_strategy='majority')\n",
    "\n",
    "X_us_train,y_us_train = undersampler.fit_resample(X_raw_train,y_raw_train)\n",
    "\n",
    "print('Composición del training set:')\n",
    "print(y_us_train.value_counts())\n",
    "\n",
    "print('\\nComposición del test set:')\n",
    "print(y_raw_test.value_counts())"
   ]
  },
  {
   "cell_type": "code",
   "execution_count": 19,
   "metadata": {},
   "outputs": [
    {
     "name": "stdout",
     "output_type": "stream",
     "text": [
      "              precision    recall  f1-score   support\n",
      "\n",
      "           0       1.00      0.96      0.98   1588602\n",
      "           1       0.03      0.89      0.06      2053\n",
      "\n",
      "    accuracy                           0.96   1590655\n",
      "   macro avg       0.52      0.93      0.52   1590655\n",
      "weighted avg       1.00      0.96      0.98   1590655\n",
      "\n",
      "Area bajo la curva ROC: 0.9763\n",
      "Area bajo la curva Precision-Recall: 0.5661\n",
      "Precision:[0.00130867 0.00130804 0.00130804 ... 0.97765363 0.97740113 1.        ], Recall: [1.         0.99951291 0.99951291 ... 0.25572333 0.25280078 0.        ]:\n"
     ]
    },
    {
     "data": {
      "image/png": "[encoded data removed]",
      "text/plain": [
       "<Figure size 432x288 with 2 Axes>"
      ]
     },
     "metadata": {
      "needs_background": "light"
     },
     "output_type": "display_data"
    }
   ],
   "source": [
    "logistic_regression_report(X_us_train, X_raw_test, y_us_train, y_raw_test)\n"
   ]
  },
  {
   "cell_type": "markdown",
   "metadata": {},
   "source": [
    "## Regresión lineal con datos balanceados (oversampling)"
   ]
  },
  {
   "cell_type": "code",
   "execution_count": 20,
   "metadata": {},
   "outputs": [
    {
     "name": "stdout",
     "output_type": "stream",
     "text": [
      "Composición del training set:\n",
      "0    4765805\n",
      "1    4765805\n",
      "Name: isFraud, dtype: int64\n",
      "\n",
      "Composición del test set:\n",
      "0    1588602\n",
      "1       2053\n",
      "Name: isFraud, dtype: int64\n"
     ]
    }
   ],
   "source": [
    "from imblearn.over_sampling import RandomOverSampler\n",
    "\n",
    "oversampler = RandomOverSampler(sampling_strategy='minority')\n",
    "\n",
    "X_os_train, y_os_train = oversampler.fit_resample(X_raw_train,y_raw_train)\n",
    "\n",
    "print('Composición del training set:')\n",
    "print(y_os_train.value_counts())\n",
    "\n",
    "print('\\nComposición del test set:')\n",
    "print(y_raw_test.value_counts())"
   ]
  },
  {
   "cell_type": "code",
   "execution_count": 21,
   "metadata": {},
   "outputs": [
    {
     "name": "stdout",
     "output_type": "stream",
     "text": [
      "              precision    recall  f1-score   support\n",
      "\n",
      "           0       1.00      0.96      0.98   1588602\n",
      "           1       0.03      0.89      0.06      2053\n",
      "\n",
      "    accuracy                           0.96   1590655\n",
      "   macro avg       0.51      0.93      0.52   1590655\n",
      "weighted avg       1.00      0.96      0.98   1590655\n",
      "\n",
      "Area bajo la curva ROC: 0.9763\n",
      "Area bajo la curva Precision-Recall: 0.5583\n",
      "Precision:[0.00131518 0.00131454 0.00131454 ... 0.97661871 0.97992701 1.        ], Recall: [1.         0.99951291 0.99951291 ... 0.26449099 0.26156844 0.        ]:\n"
     ]
    },
    {
     "data": {
      "image/png": "[encoded data removed]",
      "text/plain": [
       "<Figure size 432x288 with 2 Axes>"
      ]
     },
     "metadata": {
      "needs_background": "light"
     },
     "output_type": "display_data"
    }
   ],
   "source": [
    "logistic_regression_report(X_os_train, X_raw_test, y_os_train, y_raw_test)\n"
   ]
  },
  {
   "cell_type": "markdown",
   "metadata": {},
   "source": [
    "## Random Forest "
   ]
  },
  {
   "cell_type": "code",
   "execution_count": 22,
   "metadata": {},
   "outputs": [],
   "source": [
    "from sklearn.ensemble import RandomForestClassifier"
   ]
  },
  {
   "cell_type": "code",
   "execution_count": 23,
   "metadata": {},
   "outputs": [],
   "source": [
    "total_trees = 100 # number of trees\n",
    "max_depth = 10\n",
    "\n",
    "rf = RandomForestClassifier(n_estimators = total_trees, max_depth = max_depth, random_state=0)"
   ]
  },
  {
   "cell_type": "code",
   "execution_count": 24,
   "metadata": {},
   "outputs": [],
   "source": [
    "rf.fit(X_raw_train, y_raw_train)\n",
    "# Utilizamos el método de predicción en los datos de prueba\n",
    "y_rf_pred = rf.predict(X_raw_test)"
   ]
  },
  {
   "cell_type": "code",
   "execution_count": 25,
   "metadata": {},
   "outputs": [
    {
     "name": "stdout",
     "output_type": "stream",
     "text": [
      "              precision    recall  f1-score   support\n",
      "\n",
      "           0       1.00      1.00      1.00   1588602\n",
      "           1       1.00      0.72      0.84      2053\n",
      "\n",
      "    accuracy                           1.00   1590655\n",
      "   macro avg       1.00      0.86      0.92   1590655\n",
      "weighted avg       1.00      1.00      1.00   1590655\n",
      "\n",
      "Area bajo la curva ROC: 0.8609\n",
      "Area bajo la curva Precision-Recall: 0.8601\n"
     ]
    },
    {
     "data": {
      "text/plain": [
       "<sklearn.metrics._plot.confusion_matrix.ConfusionMatrixDisplay at 0x7f5baf459ac0>"
      ]
     },
     "execution_count": 25,
     "metadata": {},
     "output_type": "execute_result"
    },
    {
     "data": {
      "image/png": "[encoded data removed]",
      "text/plain": [
       "<Figure size 432x288 with 2 Axes>"
      ]
     },
     "metadata": {
      "needs_background": "light"
     },
     "output_type": "display_data"
    }
   ],
   "source": [
    "print(classification_report(y_raw_test,y_rf_pred))\n",
    "print('Area bajo la curva ROC:',np.round(roc_auc_score(y_raw_test,y_rf_pred),4))\n",
    "rf_precision, rf_recall, rf_threshold=precision_recall_curve(y_raw_test, y_rf_pred)\n",
    "print('Area bajo la curva Precision-Recall:',np.round(auc(rf_recall,rf_precision),4))\n",
    "plot_confusion_matrix(rf, X_raw_test, y_raw_test,cmap='Blues')"
   ]
  },
  {
   "cell_type": "code",
   "execution_count": 26,
   "metadata": {},
   "outputs": [
    {
     "data": {
      "text/plain": [
       "<BarContainer object of 7 artists>"
      ]
     },
     "execution_count": 26,
     "metadata": {},
     "output_type": "execute_result"
    },
    {
     "data": {
      "image/png": "[encoded data removed]",
      "text/plain": [
       "<Figure size 432x288 with 1 Axes>"
      ]
     },
     "metadata": {
      "needs_background": "light"
     },
     "output_type": "display_data"
    }
   ],
   "source": [
    "#grafico los features segun su importancia\n",
    "plt.barh(X_raw_train.columns, rf.feature_importances_)"
   ]
  },
  {
   "cell_type": "markdown",
   "metadata": {},
   "source": [
    "## SVM"
   ]
  },
  {
   "cell_type": "code",
   "execution_count": 27,
   "metadata": {},
   "outputs": [],
   "source": [
    "from sklearn.svm import LinearSVC\n"
   ]
  },
  {
   "cell_type": "code",
   "execution_count": 28,
   "metadata": {},
   "outputs": [],
   "source": [
    "\n",
    "svm_model = LinearSVC(random_state=23, tol=1e-5,max_iter=5000)\n"
   ]
  },
  {
   "cell_type": "code",
   "execution_count": 29,
   "metadata": {},
   "outputs": [],
   "source": [
    "# fit model\n",
    "#svm_model.fit(X_raw_train_scaled, y_raw_train)"
   ]
  },
  {
   "cell_type": "code",
   "execution_count": 30,
   "metadata": {},
   "outputs": [],
   "source": [
    "# print(\"Score the X-train with Y-train is : \", svm_model.score(X_raw_train_scaled, y_raw_train))\n",
    "# print(\"Score the X-test  with Y-test  is : \", svm_model.score(X_raw_test_scaled, y_raw_test))"
   ]
  },
  {
   "cell_type": "markdown",
   "metadata": {},
   "source": [
    "## AutomML"
   ]
  },
  {
   "cell_type": "markdown",
   "metadata": {},
   "source": [
    "A continuación implementamos pyCaret para que analice cuáles son los mejores modelos que performan para este dataset."
   ]
  },
  {
   "cell_type": "code",
   "execution_count": 31,
   "metadata": {},
   "outputs": [],
   "source": [
    "#importo librerias\n",
    "from pycaret.classification import *\n",
    "from pycaret.datasets import get_data"
   ]
  },
  {
   "cell_type": "code",
   "execution_count": 32,
   "metadata": {},
   "outputs": [
    {
     "data": {
      "text/html": [
       "<style type=\"text/css\">\n",
       "#T_2e2ca_row19_col1, #T_2e2ca_row44_col1 {\n",
       "  background-color: lightgreen;\n",
       "}\n",
       "</style>\n",
       "<table id=\"T_2e2ca\">\n",
       "  <thead>\n",
       "    <tr>\n",
       "      <th class=\"blank level0\" >&nbsp;</th>\n",
       "      <th id=\"T_2e2ca_level0_col0\" class=\"col_heading level0 col0\" >Description</th>\n",
       "      <th id=\"T_2e2ca_level0_col1\" class=\"col_heading level0 col1\" >Value</th>\n",
       "    </tr>\n",
       "  </thead>\n",
       "  <tbody>\n",
       "    <tr>\n",
       "      <th id=\"T_2e2ca_level0_row0\" class=\"row_heading level0 row0\" >0</th>\n",
       "      <td id=\"T_2e2ca_row0_col0\" class=\"data row0 col0\" >session_id</td>\n",
       "      <td id=\"T_2e2ca_row0_col1\" class=\"data row0 col1\" >5599</td>\n",
       "    </tr>\n",
       "    <tr>\n",
       "      <th id=\"T_2e2ca_level0_row1\" class=\"row_heading level0 row1\" >1</th>\n",
       "      <td id=\"T_2e2ca_row1_col0\" class=\"data row1 col0\" >Target</td>\n",
       "      <td id=\"T_2e2ca_row1_col1\" class=\"data row1 col1\" >isFraud</td>\n",
       "    </tr>\n",
       "    <tr>\n",
       "      <th id=\"T_2e2ca_level0_row2\" class=\"row_heading level0 row2\" >2</th>\n",
       "      <td id=\"T_2e2ca_row2_col0\" class=\"data row2 col0\" >Target Type</td>\n",
       "      <td id=\"T_2e2ca_row2_col1\" class=\"data row2 col1\" >Binary</td>\n",
       "    </tr>\n",
       "    <tr>\n",
       "      <th id=\"T_2e2ca_level0_row3\" class=\"row_heading level0 row3\" >3</th>\n",
       "      <td id=\"T_2e2ca_row3_col0\" class=\"data row3 col0\" >Label Encoded</td>\n",
       "      <td id=\"T_2e2ca_row3_col1\" class=\"data row3 col1\" >None</td>\n",
       "    </tr>\n",
       "    <tr>\n",
       "      <th id=\"T_2e2ca_level0_row4\" class=\"row_heading level0 row4\" >4</th>\n",
       "      <td id=\"T_2e2ca_row4_col0\" class=\"data row4 col0\" >Original Data</td>\n",
       "      <td id=\"T_2e2ca_row4_col1\" class=\"data row4 col1\" >(6362620, 8)</td>\n",
       "    </tr>\n",
       "    <tr>\n",
       "      <th id=\"T_2e2ca_level0_row5\" class=\"row_heading level0 row5\" >5</th>\n",
       "      <td id=\"T_2e2ca_row5_col0\" class=\"data row5 col0\" >Missing Values</td>\n",
       "      <td id=\"T_2e2ca_row5_col1\" class=\"data row5 col1\" >False</td>\n",
       "    </tr>\n",
       "    <tr>\n",
       "      <th id=\"T_2e2ca_level0_row6\" class=\"row_heading level0 row6\" >6</th>\n",
       "      <td id=\"T_2e2ca_row6_col0\" class=\"data row6 col0\" >Numeric Features</td>\n",
       "      <td id=\"T_2e2ca_row6_col1\" class=\"data row6 col1\" >7</td>\n",
       "    </tr>\n",
       "    <tr>\n",
       "      <th id=\"T_2e2ca_level0_row7\" class=\"row_heading level0 row7\" >7</th>\n",
       "      <td id=\"T_2e2ca_row7_col0\" class=\"data row7 col0\" >Categorical Features</td>\n",
       "      <td id=\"T_2e2ca_row7_col1\" class=\"data row7 col1\" >0</td>\n",
       "    </tr>\n",
       "    <tr>\n",
       "      <th id=\"T_2e2ca_level0_row8\" class=\"row_heading level0 row8\" >8</th>\n",
       "      <td id=\"T_2e2ca_row8_col0\" class=\"data row8 col0\" >Ordinal Features</td>\n",
       "      <td id=\"T_2e2ca_row8_col1\" class=\"data row8 col1\" >False</td>\n",
       "    </tr>\n",
       "    <tr>\n",
       "      <th id=\"T_2e2ca_level0_row9\" class=\"row_heading level0 row9\" >9</th>\n",
       "      <td id=\"T_2e2ca_row9_col0\" class=\"data row9 col0\" >High Cardinality Features</td>\n",
       "      <td id=\"T_2e2ca_row9_col1\" class=\"data row9 col1\" >False</td>\n",
       "    </tr>\n",
       "    <tr>\n",
       "      <th id=\"T_2e2ca_level0_row10\" class=\"row_heading level0 row10\" >10</th>\n",
       "      <td id=\"T_2e2ca_row10_col0\" class=\"data row10 col0\" >High Cardinality Method</td>\n",
       "      <td id=\"T_2e2ca_row10_col1\" class=\"data row10 col1\" >None</td>\n",
       "    </tr>\n",
       "    <tr>\n",
       "      <th id=\"T_2e2ca_level0_row11\" class=\"row_heading level0 row11\" >11</th>\n",
       "      <td id=\"T_2e2ca_row11_col0\" class=\"data row11 col0\" >Transformed Train Set</td>\n",
       "      <td id=\"T_2e2ca_row11_col1\" class=\"data row11 col1\" >(4453833, 6)</td>\n",
       "    </tr>\n",
       "    <tr>\n",
       "      <th id=\"T_2e2ca_level0_row12\" class=\"row_heading level0 row12\" >12</th>\n",
       "      <td id=\"T_2e2ca_row12_col0\" class=\"data row12 col0\" >Transformed Test Set</td>\n",
       "      <td id=\"T_2e2ca_row12_col1\" class=\"data row12 col1\" >(1908787, 6)</td>\n",
       "    </tr>\n",
       "    <tr>\n",
       "      <th id=\"T_2e2ca_level0_row13\" class=\"row_heading level0 row13\" >13</th>\n",
       "      <td id=\"T_2e2ca_row13_col0\" class=\"data row13 col0\" >Shuffle Train-Test</td>\n",
       "      <td id=\"T_2e2ca_row13_col1\" class=\"data row13 col1\" >True</td>\n",
       "    </tr>\n",
       "    <tr>\n",
       "      <th id=\"T_2e2ca_level0_row14\" class=\"row_heading level0 row14\" >14</th>\n",
       "      <td id=\"T_2e2ca_row14_col0\" class=\"data row14 col0\" >Stratify Train-Test</td>\n",
       "      <td id=\"T_2e2ca_row14_col1\" class=\"data row14 col1\" >False</td>\n",
       "    </tr>\n",
       "    <tr>\n",
       "      <th id=\"T_2e2ca_level0_row15\" class=\"row_heading level0 row15\" >15</th>\n",
       "      <td id=\"T_2e2ca_row15_col0\" class=\"data row15 col0\" >Fold Generator</td>\n",
       "      <td id=\"T_2e2ca_row15_col1\" class=\"data row15 col1\" >StratifiedKFold</td>\n",
       "    </tr>\n",
       "    <tr>\n",
       "      <th id=\"T_2e2ca_level0_row16\" class=\"row_heading level0 row16\" >16</th>\n",
       "      <td id=\"T_2e2ca_row16_col0\" class=\"data row16 col0\" >Fold Number</td>\n",
       "      <td id=\"T_2e2ca_row16_col1\" class=\"data row16 col1\" >10</td>\n",
       "    </tr>\n",
       "    <tr>\n",
       "      <th id=\"T_2e2ca_level0_row17\" class=\"row_heading level0 row17\" >17</th>\n",
       "      <td id=\"T_2e2ca_row17_col0\" class=\"data row17 col0\" >CPU Jobs</td>\n",
       "      <td id=\"T_2e2ca_row17_col1\" class=\"data row17 col1\" >-1</td>\n",
       "    </tr>\n",
       "    <tr>\n",
       "      <th id=\"T_2e2ca_level0_row18\" class=\"row_heading level0 row18\" >18</th>\n",
       "      <td id=\"T_2e2ca_row18_col0\" class=\"data row18 col0\" >Use GPU</td>\n",
       "      <td id=\"T_2e2ca_row18_col1\" class=\"data row18 col1\" >False</td>\n",
       "    </tr>\n",
       "    <tr>\n",
       "      <th id=\"T_2e2ca_level0_row19\" class=\"row_heading level0 row19\" >19</th>\n",
       "      <td id=\"T_2e2ca_row19_col0\" class=\"data row19 col0\" >Log Experiment</td>\n",
       "      <td id=\"T_2e2ca_row19_col1\" class=\"data row19 col1\" >True</td>\n",
       "    </tr>\n",
       "    <tr>\n",
       "      <th id=\"T_2e2ca_level0_row20\" class=\"row_heading level0 row20\" >20</th>\n",
       "      <td id=\"T_2e2ca_row20_col0\" class=\"data row20 col0\" >Experiment Name</td>\n",
       "      <td id=\"T_2e2ca_row20_col1\" class=\"data row20 col1\" >ml_tp1</td>\n",
       "    </tr>\n",
       "    <tr>\n",
       "      <th id=\"T_2e2ca_level0_row21\" class=\"row_heading level0 row21\" >21</th>\n",
       "      <td id=\"T_2e2ca_row21_col0\" class=\"data row21 col0\" >USI</td>\n",
       "      <td id=\"T_2e2ca_row21_col1\" class=\"data row21 col1\" >a5ab</td>\n",
       "    </tr>\n",
       "    <tr>\n",
       "      <th id=\"T_2e2ca_level0_row22\" class=\"row_heading level0 row22\" >22</th>\n",
       "      <td id=\"T_2e2ca_row22_col0\" class=\"data row22 col0\" >Imputation Type</td>\n",
       "      <td id=\"T_2e2ca_row22_col1\" class=\"data row22 col1\" >simple</td>\n",
       "    </tr>\n",
       "    <tr>\n",
       "      <th id=\"T_2e2ca_level0_row23\" class=\"row_heading level0 row23\" >23</th>\n",
       "      <td id=\"T_2e2ca_row23_col0\" class=\"data row23 col0\" >Iterative Imputation Iteration</td>\n",
       "      <td id=\"T_2e2ca_row23_col1\" class=\"data row23 col1\" >None</td>\n",
       "    </tr>\n",
       "    <tr>\n",
       "      <th id=\"T_2e2ca_level0_row24\" class=\"row_heading level0 row24\" >24</th>\n",
       "      <td id=\"T_2e2ca_row24_col0\" class=\"data row24 col0\" >Numeric Imputer</td>\n",
       "      <td id=\"T_2e2ca_row24_col1\" class=\"data row24 col1\" >mean</td>\n",
       "    </tr>\n",
       "    <tr>\n",
       "      <th id=\"T_2e2ca_level0_row25\" class=\"row_heading level0 row25\" >25</th>\n",
       "      <td id=\"T_2e2ca_row25_col0\" class=\"data row25 col0\" >Iterative Imputation Numeric Model</td>\n",
       "      <td id=\"T_2e2ca_row25_col1\" class=\"data row25 col1\" >None</td>\n",
       "    </tr>\n",
       "    <tr>\n",
       "      <th id=\"T_2e2ca_level0_row26\" class=\"row_heading level0 row26\" >26</th>\n",
       "      <td id=\"T_2e2ca_row26_col0\" class=\"data row26 col0\" >Categorical Imputer</td>\n",
       "      <td id=\"T_2e2ca_row26_col1\" class=\"data row26 col1\" >constant</td>\n",
       "    </tr>\n",
       "    <tr>\n",
       "      <th id=\"T_2e2ca_level0_row27\" class=\"row_heading level0 row27\" >27</th>\n",
       "      <td id=\"T_2e2ca_row27_col0\" class=\"data row27 col0\" >Iterative Imputation Categorical Model</td>\n",
       "      <td id=\"T_2e2ca_row27_col1\" class=\"data row27 col1\" >None</td>\n",
       "    </tr>\n",
       "    <tr>\n",
       "      <th id=\"T_2e2ca_level0_row28\" class=\"row_heading level0 row28\" >28</th>\n",
       "      <td id=\"T_2e2ca_row28_col0\" class=\"data row28 col0\" >Unknown Categoricals Handling</td>\n",
       "      <td id=\"T_2e2ca_row28_col1\" class=\"data row28 col1\" >least_frequent</td>\n",
       "    </tr>\n",
       "    <tr>\n",
       "      <th id=\"T_2e2ca_level0_row29\" class=\"row_heading level0 row29\" >29</th>\n",
       "      <td id=\"T_2e2ca_row29_col0\" class=\"data row29 col0\" >Normalize</td>\n",
       "      <td id=\"T_2e2ca_row29_col1\" class=\"data row29 col1\" >False</td>\n",
       "    </tr>\n",
       "    <tr>\n",
       "      <th id=\"T_2e2ca_level0_row30\" class=\"row_heading level0 row30\" >30</th>\n",
       "      <td id=\"T_2e2ca_row30_col0\" class=\"data row30 col0\" >Normalize Method</td>\n",
       "      <td id=\"T_2e2ca_row30_col1\" class=\"data row30 col1\" >None</td>\n",
       "    </tr>\n",
       "    <tr>\n",
       "      <th id=\"T_2e2ca_level0_row31\" class=\"row_heading level0 row31\" >31</th>\n",
       "      <td id=\"T_2e2ca_row31_col0\" class=\"data row31 col0\" >Transformation</td>\n",
       "      <td id=\"T_2e2ca_row31_col1\" class=\"data row31 col1\" >False</td>\n",
       "    </tr>\n",
       "    <tr>\n",
       "      <th id=\"T_2e2ca_level0_row32\" class=\"row_heading level0 row32\" >32</th>\n",
       "      <td id=\"T_2e2ca_row32_col0\" class=\"data row32 col0\" >Transformation Method</td>\n",
       "      <td id=\"T_2e2ca_row32_col1\" class=\"data row32 col1\" >None</td>\n",
       "    </tr>\n",
       "    <tr>\n",
       "      <th id=\"T_2e2ca_level0_row33\" class=\"row_heading level0 row33\" >33</th>\n",
       "      <td id=\"T_2e2ca_row33_col0\" class=\"data row33 col0\" >PCA</td>\n",
       "      <td id=\"T_2e2ca_row33_col1\" class=\"data row33 col1\" >False</td>\n",
       "    </tr>\n",
       "    <tr>\n",
       "      <th id=\"T_2e2ca_level0_row34\" class=\"row_heading level0 row34\" >34</th>\n",
       "      <td id=\"T_2e2ca_row34_col0\" class=\"data row34 col0\" >PCA Method</td>\n",
       "      <td id=\"T_2e2ca_row34_col1\" class=\"data row34 col1\" >None</td>\n",
       "    </tr>\n",
       "    <tr>\n",
       "      <th id=\"T_2e2ca_level0_row35\" class=\"row_heading level0 row35\" >35</th>\n",
       "      <td id=\"T_2e2ca_row35_col0\" class=\"data row35 col0\" >PCA Components</td>\n",
       "      <td id=\"T_2e2ca_row35_col1\" class=\"data row35 col1\" >None</td>\n",
       "    </tr>\n",
       "    <tr>\n",
       "      <th id=\"T_2e2ca_level0_row36\" class=\"row_heading level0 row36\" >36</th>\n",
       "      <td id=\"T_2e2ca_row36_col0\" class=\"data row36 col0\" >Ignore Low Variance</td>\n",
       "      <td id=\"T_2e2ca_row36_col1\" class=\"data row36 col1\" >False</td>\n",
       "    </tr>\n",
       "    <tr>\n",
       "      <th id=\"T_2e2ca_level0_row37\" class=\"row_heading level0 row37\" >37</th>\n",
       "      <td id=\"T_2e2ca_row37_col0\" class=\"data row37 col0\" >Combine Rare Levels</td>\n",
       "      <td id=\"T_2e2ca_row37_col1\" class=\"data row37 col1\" >False</td>\n",
       "    </tr>\n",
       "    <tr>\n",
       "      <th id=\"T_2e2ca_level0_row38\" class=\"row_heading level0 row38\" >38</th>\n",
       "      <td id=\"T_2e2ca_row38_col0\" class=\"data row38 col0\" >Rare Level Threshold</td>\n",
       "      <td id=\"T_2e2ca_row38_col1\" class=\"data row38 col1\" >None</td>\n",
       "    </tr>\n",
       "    <tr>\n",
       "      <th id=\"T_2e2ca_level0_row39\" class=\"row_heading level0 row39\" >39</th>\n",
       "      <td id=\"T_2e2ca_row39_col0\" class=\"data row39 col0\" >Numeric Binning</td>\n",
       "      <td id=\"T_2e2ca_row39_col1\" class=\"data row39 col1\" >False</td>\n",
       "    </tr>\n",
       "    <tr>\n",
       "      <th id=\"T_2e2ca_level0_row40\" class=\"row_heading level0 row40\" >40</th>\n",
       "      <td id=\"T_2e2ca_row40_col0\" class=\"data row40 col0\" >Remove Outliers</td>\n",
       "      <td id=\"T_2e2ca_row40_col1\" class=\"data row40 col1\" >False</td>\n",
       "    </tr>\n",
       "    <tr>\n",
       "      <th id=\"T_2e2ca_level0_row41\" class=\"row_heading level0 row41\" >41</th>\n",
       "      <td id=\"T_2e2ca_row41_col0\" class=\"data row41 col0\" >Outliers Threshold</td>\n",
       "      <td id=\"T_2e2ca_row41_col1\" class=\"data row41 col1\" >None</td>\n",
       "    </tr>\n",
       "    <tr>\n",
       "      <th id=\"T_2e2ca_level0_row42\" class=\"row_heading level0 row42\" >42</th>\n",
       "      <td id=\"T_2e2ca_row42_col0\" class=\"data row42 col0\" >Remove Multicollinearity</td>\n",
       "      <td id=\"T_2e2ca_row42_col1\" class=\"data row42 col1\" >False</td>\n",
       "    </tr>\n",
       "    <tr>\n",
       "      <th id=\"T_2e2ca_level0_row43\" class=\"row_heading level0 row43\" >43</th>\n",
       "      <td id=\"T_2e2ca_row43_col0\" class=\"data row43 col0\" >Multicollinearity Threshold</td>\n",
       "      <td id=\"T_2e2ca_row43_col1\" class=\"data row43 col1\" >None</td>\n",
       "    </tr>\n",
       "    <tr>\n",
       "      <th id=\"T_2e2ca_level0_row44\" class=\"row_heading level0 row44\" >44</th>\n",
       "      <td id=\"T_2e2ca_row44_col0\" class=\"data row44 col0\" >Remove Perfect Collinearity</td>\n",
       "      <td id=\"T_2e2ca_row44_col1\" class=\"data row44 col1\" >True</td>\n",
       "    </tr>\n",
       "    <tr>\n",
       "      <th id=\"T_2e2ca_level0_row45\" class=\"row_heading level0 row45\" >45</th>\n",
       "      <td id=\"T_2e2ca_row45_col0\" class=\"data row45 col0\" >Clustering</td>\n",
       "      <td id=\"T_2e2ca_row45_col1\" class=\"data row45 col1\" >False</td>\n",
       "    </tr>\n",
       "    <tr>\n",
       "      <th id=\"T_2e2ca_level0_row46\" class=\"row_heading level0 row46\" >46</th>\n",
       "      <td id=\"T_2e2ca_row46_col0\" class=\"data row46 col0\" >Clustering Iteration</td>\n",
       "      <td id=\"T_2e2ca_row46_col1\" class=\"data row46 col1\" >None</td>\n",
       "    </tr>\n",
       "    <tr>\n",
       "      <th id=\"T_2e2ca_level0_row47\" class=\"row_heading level0 row47\" >47</th>\n",
       "      <td id=\"T_2e2ca_row47_col0\" class=\"data row47 col0\" >Polynomial Features</td>\n",
       "      <td id=\"T_2e2ca_row47_col1\" class=\"data row47 col1\" >False</td>\n",
       "    </tr>\n",
       "    <tr>\n",
       "      <th id=\"T_2e2ca_level0_row48\" class=\"row_heading level0 row48\" >48</th>\n",
       "      <td id=\"T_2e2ca_row48_col0\" class=\"data row48 col0\" >Polynomial Degree</td>\n",
       "      <td id=\"T_2e2ca_row48_col1\" class=\"data row48 col1\" >None</td>\n",
       "    </tr>\n",
       "    <tr>\n",
       "      <th id=\"T_2e2ca_level0_row49\" class=\"row_heading level0 row49\" >49</th>\n",
       "      <td id=\"T_2e2ca_row49_col0\" class=\"data row49 col0\" >Trignometry Features</td>\n",
       "      <td id=\"T_2e2ca_row49_col1\" class=\"data row49 col1\" >False</td>\n",
       "    </tr>\n",
       "    <tr>\n",
       "      <th id=\"T_2e2ca_level0_row50\" class=\"row_heading level0 row50\" >50</th>\n",
       "      <td id=\"T_2e2ca_row50_col0\" class=\"data row50 col0\" >Polynomial Threshold</td>\n",
       "      <td id=\"T_2e2ca_row50_col1\" class=\"data row50 col1\" >None</td>\n",
       "    </tr>\n",
       "    <tr>\n",
       "      <th id=\"T_2e2ca_level0_row51\" class=\"row_heading level0 row51\" >51</th>\n",
       "      <td id=\"T_2e2ca_row51_col0\" class=\"data row51 col0\" >Group Features</td>\n",
       "      <td id=\"T_2e2ca_row51_col1\" class=\"data row51 col1\" >False</td>\n",
       "    </tr>\n",
       "    <tr>\n",
       "      <th id=\"T_2e2ca_level0_row52\" class=\"row_heading level0 row52\" >52</th>\n",
       "      <td id=\"T_2e2ca_row52_col0\" class=\"data row52 col0\" >Feature Selection</td>\n",
       "      <td id=\"T_2e2ca_row52_col1\" class=\"data row52 col1\" >False</td>\n",
       "    </tr>\n",
       "    <tr>\n",
       "      <th id=\"T_2e2ca_level0_row53\" class=\"row_heading level0 row53\" >53</th>\n",
       "      <td id=\"T_2e2ca_row53_col0\" class=\"data row53 col0\" >Feature Selection Method</td>\n",
       "      <td id=\"T_2e2ca_row53_col1\" class=\"data row53 col1\" >classic</td>\n",
       "    </tr>\n",
       "    <tr>\n",
       "      <th id=\"T_2e2ca_level0_row54\" class=\"row_heading level0 row54\" >54</th>\n",
       "      <td id=\"T_2e2ca_row54_col0\" class=\"data row54 col0\" >Features Selection Threshold</td>\n",
       "      <td id=\"T_2e2ca_row54_col1\" class=\"data row54 col1\" >None</td>\n",
       "    </tr>\n",
       "    <tr>\n",
       "      <th id=\"T_2e2ca_level0_row55\" class=\"row_heading level0 row55\" >55</th>\n",
       "      <td id=\"T_2e2ca_row55_col0\" class=\"data row55 col0\" >Feature Interaction</td>\n",
       "      <td id=\"T_2e2ca_row55_col1\" class=\"data row55 col1\" >False</td>\n",
       "    </tr>\n",
       "    <tr>\n",
       "      <th id=\"T_2e2ca_level0_row56\" class=\"row_heading level0 row56\" >56</th>\n",
       "      <td id=\"T_2e2ca_row56_col0\" class=\"data row56 col0\" >Feature Ratio</td>\n",
       "      <td id=\"T_2e2ca_row56_col1\" class=\"data row56 col1\" >False</td>\n",
       "    </tr>\n",
       "    <tr>\n",
       "      <th id=\"T_2e2ca_level0_row57\" class=\"row_heading level0 row57\" >57</th>\n",
       "      <td id=\"T_2e2ca_row57_col0\" class=\"data row57 col0\" >Interaction Threshold</td>\n",
       "      <td id=\"T_2e2ca_row57_col1\" class=\"data row57 col1\" >None</td>\n",
       "    </tr>\n",
       "    <tr>\n",
       "      <th id=\"T_2e2ca_level0_row58\" class=\"row_heading level0 row58\" >58</th>\n",
       "      <td id=\"T_2e2ca_row58_col0\" class=\"data row58 col0\" >Fix Imbalance</td>\n",
       "      <td id=\"T_2e2ca_row58_col1\" class=\"data row58 col1\" >False</td>\n",
       "    </tr>\n",
       "    <tr>\n",
       "      <th id=\"T_2e2ca_level0_row59\" class=\"row_heading level0 row59\" >59</th>\n",
       "      <td id=\"T_2e2ca_row59_col0\" class=\"data row59 col0\" >Fix Imbalance Method</td>\n",
       "      <td id=\"T_2e2ca_row59_col1\" class=\"data row59 col1\" >SMOTE</td>\n",
       "    </tr>\n",
       "  </tbody>\n",
       "</table>\n"
      ],
      "text/plain": [
       "<pandas.io.formats.style.Styler at 0x7f5b098c3df0>"
      ]
     },
     "metadata": {},
     "output_type": "display_data"
    },
    {
     "name": "stderr",
     "output_type": "stream",
     "text": [
      "2022/08/18 22:41:48 INFO mlflow.tracking.fluent: Experiment with name 'ml_tp1' does not exist. Creating a new experiment.\n"
     ]
    }
   ],
   "source": [
    "\n",
    "df_automl = df[feature_cols]\n",
    "df_automl['isFraud'] = df['isFraud']\n",
    "clf1 = setup(df_automl, target = 'isFraud', log_experiment = True, experiment_name = 'ml_tp1', use_gpu=False, silent=True)"
   ]
  },
  {
   "cell_type": "code",
   "execution_count": 33,
   "metadata": {},
   "outputs": [
    {
     "data": {
      "application/vnd.jupyter.widget-view+json": {
       "model_id": "a9f7698105f24367ba6948ef6b4090f9",
       "version_major": 2,
       "version_minor": 0
      },
      "text/plain": [
       "IntProgress(value=0, description='Processing: ', max=74)"
      ]
     },
     "metadata": {},
     "output_type": "display_data"
    },
    {
     "data": {
      "text/html": [
       "<div>\n",
       "<style scoped>\n",
       "    .dataframe tbody tr th:only-of-type {\n",
       "        vertical-align: middle;\n",
       "    }\n",
       "\n",
       "    .dataframe tbody tr th {\n",
       "        vertical-align: top;\n",
       "    }\n",
       "\n",
       "    .dataframe thead th {\n",
       "        text-align: right;\n",
       "    }\n",
       "</style>\n",
       "<table border=\"1\" class=\"dataframe\">\n",
       "  <thead>\n",
       "    <tr style=\"text-align: right;\">\n",
       "      <th></th>\n",
       "      <th></th>\n",
       "      <th></th>\n",
       "    </tr>\n",
       "    <tr>\n",
       "      <th></th>\n",
       "      <th></th>\n",
       "      <th></th>\n",
       "    </tr>\n",
       "  </thead>\n",
       "  <tbody>\n",
       "    <tr>\n",
       "      <th>Initiated</th>\n",
       "      <td>. . . . . . . . . . . . . . . . . .</td>\n",
       "      <td>22:41:49</td>\n",
       "    </tr>\n",
       "    <tr>\n",
       "      <th>Status</th>\n",
       "      <td>. . . . . . . . . . . . . . . . . .</td>\n",
       "      <td>Fitting 10 Folds</td>\n",
       "    </tr>\n",
       "    <tr>\n",
       "      <th>Estimator</th>\n",
       "      <td>. . . . . . . . . . . . . . . . . .</td>\n",
       "      <td>K Neighbors Classifier</td>\n",
       "    </tr>\n",
       "  </tbody>\n",
       "</table>\n",
       "</div>"
      ],
      "text/plain": [
       "                                                                      \n",
       "                                                                      \n",
       "Initiated  . . . . . . . . . . . . . . . . . .                22:41:49\n",
       "Status     . . . . . . . . . . . . . . . . . .        Fitting 10 Folds\n",
       "Estimator  . . . . . . . . . . . . . . . . . .  K Neighbors Classifier"
      ]
     },
     "metadata": {},
     "output_type": "display_data"
    },
    {
     "data": {
      "text/html": [
       "<style type=\"text/css\">\n",
       "#T_566cf th {\n",
       "  text-align: left;\n",
       "}\n",
       "#T_566cf_row0_col0, #T_566cf_row0_col1, #T_566cf_row0_col2, #T_566cf_row0_col3, #T_566cf_row0_col4, #T_566cf_row0_col5, #T_566cf_row0_col6, #T_566cf_row0_col7, #T_566cf_row0_col8 {\n",
       "  text-align: left;\n",
       "}\n",
       "</style>\n",
       "<table id=\"T_566cf\">\n",
       "  <thead>\n",
       "    <tr>\n",
       "      <th class=\"blank level0\" >&nbsp;</th>\n",
       "      <th id=\"T_566cf_level0_col0\" class=\"col_heading level0 col0\" >Model</th>\n",
       "      <th id=\"T_566cf_level0_col1\" class=\"col_heading level0 col1\" >Accuracy</th>\n",
       "      <th id=\"T_566cf_level0_col2\" class=\"col_heading level0 col2\" >AUC</th>\n",
       "      <th id=\"T_566cf_level0_col3\" class=\"col_heading level0 col3\" >Recall</th>\n",
       "      <th id=\"T_566cf_level0_col4\" class=\"col_heading level0 col4\" >Prec.</th>\n",
       "      <th id=\"T_566cf_level0_col5\" class=\"col_heading level0 col5\" >F1</th>\n",
       "      <th id=\"T_566cf_level0_col6\" class=\"col_heading level0 col6\" >Kappa</th>\n",
       "      <th id=\"T_566cf_level0_col7\" class=\"col_heading level0 col7\" >MCC</th>\n",
       "      <th id=\"T_566cf_level0_col8\" class=\"col_heading level0 col8\" >TT (Sec)</th>\n",
       "    </tr>\n",
       "  </thead>\n",
       "  <tbody>\n",
       "    <tr>\n",
       "      <th id=\"T_566cf_level0_row0\" class=\"row_heading level0 row0\" >lr</th>\n",
       "      <td id=\"T_566cf_row0_col0\" class=\"data row0 col0\" >Logistic Regression</td>\n",
       "      <td id=\"T_566cf_row0_col1\" class=\"data row0 col1\" >0.9981</td>\n",
       "      <td id=\"T_566cf_row0_col2\" class=\"data row0 col2\" >0.5281</td>\n",
       "      <td id=\"T_566cf_row0_col3\" class=\"data row0 col3\" >0.0715</td>\n",
       "      <td id=\"T_566cf_row0_col4\" class=\"data row0 col4\" >0.1148</td>\n",
       "      <td id=\"T_566cf_row0_col5\" class=\"data row0 col5\" >0.0881</td>\n",
       "      <td id=\"T_566cf_row0_col6\" class=\"data row0 col6\" >0.0872</td>\n",
       "      <td id=\"T_566cf_row0_col7\" class=\"data row0 col7\" >0.0896</td>\n",
       "      <td id=\"T_566cf_row0_col8\" class=\"data row0 col8\" >8.4480</td>\n",
       "    </tr>\n",
       "  </tbody>\n",
       "</table>\n"
      ],
      "text/plain": [
       "<pandas.io.formats.style.Styler at 0x7f5b098c3280>"
      ]
     },
     "metadata": {},
     "output_type": "display_data"
    }
   ],
   "source": [
    "# model training\n",
    "best_model = compare_models() "
   ]
  },
  {
   "cell_type": "markdown",
   "metadata": {},
   "source": [
    "## Conclusiones"
   ]
  },
  {
   "cell_type": "markdown",
   "metadata": {},
   "source": [
    "A continuación se detallan los resultados obtenidos para cada uno de los métodos:\n",
    "\n",
    "| Modelo      | Verdaderos Negativos | Verdaderos positivos | Falsos negativos | Falsos positivos | Notas |\n",
    "| ----------- | ----------- |-------|----------|---|---|\n",
    "| Logistic Reg desbalanceado| 1.6e+06 |  1003| 1050 | 167| |\n",
    "| Logistic Reg undersampling | 1.5e+06| 1841| 212| 60775 | |\n",
    "| Logistic Reg oversampling | 1.5e+06| 1837| 216| 61604||\n",
    "| Random Forest | 1.6e+06| 1482| 571| 3||\n",
    "| SVM | --| --| --| -- |No se logró converger en el intervalo establecido |\n"
   ]
  },
  {
   "cell_type": "markdown",
   "metadata": {},
   "source": [
    "En las diferentes matrices de confusión se pueden ver que los valores de TN (verdaderos negativos, es decir, que no son fraudes y no se detecaron como fraudes) siempre es muy alta, por lo que tiende a distorsionar el índice __accuracy__.  \n",
    "El valor de falso negativo se corresponde a un __verdadero fraude que no es detectado por el modelo__. Este sí es el peor de todos los casos posibles dado que el sistema no pudo identificar con éxito una transacción inválida."
   ]
  },
  {
   "cell_type": "markdown",
   "metadata": {},
   "source": [
    "$$ accuracy = {(TP + TN)\\over(TP+TN+FP+FN)} $$\n",
    "$$ recall = {TP\\over(TP+FN)} $$\n",
    "$$ precision = {TP\\over(TP+FP)} $$\n"
   ]
  },
  {
   "cell_type": "markdown",
   "metadata": {},
   "source": [
    "\n",
    "| Modelo      | Accuracy | Precision | Recall | Notas |\n",
    "| ----------- | ----------- |-------|----------|---|\n",
    "| Logistic Reg desbalanceado| 0.99 | 0.8572 | 0.4885| |\n",
    "| Logistic Reg undersampling | 0.96| 0.0294| 0.8967 | |\n",
    "| Logistic Reg oversampling | 0.96| 0.0289| 0.8947||\n",
    "| Random Forest | 0.99| 0.9979| 0.7218||\n",
    "| SVM | --| --| --| -- |No se logró converger en el intervalo establecido |\n"
   ]
  },
  {
   "cell_type": "markdown",
   "metadata": {},
   "source": [
    "\n",
    "En base al concepto anterior, se concluye que los mejores resultados fueron obtenidos con __Logistic regression con y sin undersampling__ donde el recall es mayor si bien han perdido precisión notoriamente respecto de los otros modelos.\n",
    "\n"
   ]
  }
 ],
 "metadata": {
  "kernelspec": {
   "display_name": "Python 3.8.13 ('pycaret2')",
   "language": "python",
   "name": "python3"
  },
  "language_info": {
   "codemirror_mode": {
    "name": "ipython",
    "version": 3
   },
   "file_extension": ".py",
   "mimetype": "text/x-python",
   "name": "python",
   "nbconvert_exporter": "python",
   "pygments_lexer": "ipython3",
   "version": "3.8.13"
  },
  "orig_nbformat": 4,
  "vscode": {
   "interpreter": {
    "hash": "33b7e6f42d5c92d6b814a1f6cf038b869e4ed5abed6f4d7226a210bd44c06fed"
   }
  }
 },
 "nbformat": 4,
 "nbformat_minor": 2
}
